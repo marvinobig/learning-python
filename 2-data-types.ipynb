{
 "cells": [
  {
   "cell_type": "markdown",
   "metadata": {},
   "source": [
    "Integers"
   ]
  },
  {
   "cell_type": "code",
   "execution_count": null,
   "metadata": {},
   "outputs": [],
   "source": [
    "23"
   ]
  },
  {
   "cell_type": "markdown",
   "metadata": {},
   "source": [
    "Floats"
   ]
  },
  {
   "cell_type": "code",
   "execution_count": null,
   "metadata": {},
   "outputs": [],
   "source": [
    "24.345"
   ]
  },
  {
   "cell_type": "markdown",
   "metadata": {},
   "source": [
    "Strings (can be single or double qoutes)"
   ]
  },
  {
   "cell_type": "code",
   "execution_count": null,
   "metadata": {},
   "outputs": [],
   "source": [
    "'hello world'\n",
    "\"hello world\""
   ]
  },
  {
   "cell_type": "markdown",
   "metadata": {},
   "source": [
    "Lists (collection of related data)"
   ]
  },
  {
   "cell_type": "code",
   "execution_count": 16,
   "metadata": {},
   "outputs": [
    {
     "name": "stdout",
     "output_type": "stream",
     "text": [
      "1.  ['marv', 'james', 'odell', 'matteus']\n",
      "2.  marv odell matteus\n",
      "3.  ['marv', 'james', 'odell', 'matteus', 'prince']\n",
      "4.  ['james', 'odell']\n",
      "5.  ['marv', 'james', 'odell']\n",
      "6.  ['odell', 'matteus', 'prince']\n",
      "7.  ['marv', 'odell']\n",
      "8.  james\n",
      "9.  justin\n",
      "10.  ['marv', 'odell', 'matteus', 'prince']\n",
      "11.  ['marv', 'odell', 'matteus', 'prince', 100]\n"
     ]
    }
   ],
   "source": [
    "listOfNames = [\n",
    "    'marv',\n",
    "    'james',\n",
    "    'odell',\n",
    "    'matteus'\n",
    "]\n",
    "\n",
    "print('1. ', listOfNames)\n",
    "print('2. ', listOfNames[0], listOfNames[2], listOfNames[-1])\n",
    "\n",
    "listOfNames.append('prince') # add to list\n",
    "print('3. ', listOfNames)\n",
    "\n",
    "print('4. ', listOfNames[1:3]) # performing a slice on the array\n",
    "print('5. ', listOfNames[:3]) # performing a slice with its defaults\n",
    "print('6. ', listOfNames[2:]) # performing a slice with its defaults\n",
    "print('7. ', listOfNames[0:3:2]) # a slice that returns every second element\n",
    "\n",
    "print('8. ', listOfNames[1]) # modify an element in a list\n",
    "listOfNames[1] = 'justin' \n",
    "print('9. ', listOfNames[1])\n",
    "\n",
    "del listOfNames[1] # deletes the second element in the list\n",
    "print('10. ', listOfNames)\n",
    "\n",
    "listOfNames.append(100)\n",
    "print('11. ', listOfNames) # lists can hold different data types"
   ]
  }
 ],
 "metadata": {
  "kernelspec": {
   "display_name": "Python 3",
   "language": "python",
   "name": "python3"
  },
  "language_info": {
   "codemirror_mode": {
    "name": "ipython",
    "version": 3
   },
   "file_extension": ".py",
   "mimetype": "text/x-python",
   "name": "python",
   "nbconvert_exporter": "python",
   "pygments_lexer": "ipython3",
   "version": "3.12.0"
  }
 },
 "nbformat": 4,
 "nbformat_minor": 2
}
