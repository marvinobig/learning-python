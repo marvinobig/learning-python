{
 "cells": [
  {
   "cell_type": "markdown",
   "metadata": {},
   "source": [
    "Integers (whole numbers)"
   ]
  },
  {
   "cell_type": "code",
   "execution_count": null,
   "metadata": {},
   "outputs": [],
   "source": [
    "23"
   ]
  },
  {
   "cell_type": "markdown",
   "metadata": {},
   "source": [
    "Floats (decimal dumbers)"
   ]
  },
  {
   "cell_type": "code",
   "execution_count": null,
   "metadata": {},
   "outputs": [],
   "source": [
    "24.345"
   ]
  },
  {
   "cell_type": "markdown",
   "metadata": {},
   "source": [
    "Strings (words) (can be single or double qoutes)"
   ]
  },
  {
   "cell_type": "code",
   "execution_count": null,
   "metadata": {},
   "outputs": [],
   "source": [
    "'hello world'\n",
    "\"hello world\""
   ]
  },
  {
   "cell_type": "markdown",
   "metadata": {},
   "source": [
    "Lists (collection of related data)"
   ]
  },
  {
   "cell_type": "code",
   "execution_count": 16,
   "metadata": {},
   "outputs": [
    {
     "name": "stdout",
     "output_type": "stream",
     "text": [
      "1.  ['marv', 'james', 'odell', 'matteus']\n",
      "2.  marv odell matteus\n",
      "3.  ['marv', 'james', 'odell', 'matteus', 'prince']\n",
      "4.  ['james', 'odell']\n",
      "5.  ['marv', 'james', 'odell']\n",
      "6.  ['odell', 'matteus', 'prince']\n",
      "7.  ['marv', 'odell']\n",
      "8.  james\n",
      "9.  justin\n",
      "10.  ['marv', 'odell', 'matteus', 'prince']\n",
      "11.  ['marv', 'odell', 'matteus', 'prince', 100]\n"
     ]
    }
   ],
   "source": [
    "listOfNames = [\n",
    "    'marv',\n",
    "    'james',\n",
    "    'odell',\n",
    "    'matteus'\n",
    "]\n",
    "\n",
    "print('1. ', listOfNames)\n",
    "print('2. ', listOfNames[0], listOfNames[2], listOfNames[-1])\n",
    "\n",
    "listOfNames.append('prince') # add to list\n",
    "print('3. ', listOfNames)\n",
    "\n",
    "print('4. ', listOfNames[1:3]) # performing a slice on the array\n",
    "print('5. ', listOfNames[:3]) # performing a slice with its defaults\n",
    "print('6. ', listOfNames[2:]) # performing a slice with its defaults\n",
    "print('7. ', listOfNames[0:3:2]) # a slice that returns every second element\n",
    "\n",
    "print('8. ', listOfNames[1]) # modify an element in a list\n",
    "listOfNames[1] = 'justin' \n",
    "print('9. ', listOfNames[1])\n",
    "\n",
    "del listOfNames[1] # deletes the second element in the list\n",
    "print('10. ', listOfNames)\n",
    "\n",
    "listOfNames.append(100)\n",
    "print('11. ', listOfNames) # lists can hold different data types"
   ]
  },
  {
   "cell_type": "markdown",
   "metadata": {},
   "source": [
    "Tuples (lists with immutable values)"
   ]
  },
  {
   "cell_type": "code",
   "execution_count": 19,
   "metadata": {},
   "outputs": [
    {
     "name": "stdout",
     "output_type": "stream",
     "text": [
      "('January', 'February', 'March', 'April')\n"
     ]
    },
    {
     "ename": "TypeError",
     "evalue": "'tuple' object does not support item assignment",
     "output_type": "error",
     "traceback": [
      "\u001b[0;31m---------------------------------------------------------------------------\u001b[0m",
      "\u001b[0;31mTypeError\u001b[0m                                 Traceback (most recent call last)",
      "\u001b[1;32m/home/marvinobig/Repos/python/learning-python/2-data-types.ipynb Cell 10\u001b[0m line \u001b[0;36m1\n\u001b[1;32m      <a href='vscode-notebook-cell:/home/marvinobig/Repos/python/learning-python/2-data-types.ipynb#X12sZmlsZQ%3D%3D?line=0'>1</a>\u001b[0m tupleOfMonths \u001b[39m=\u001b[39m (\n\u001b[1;32m      <a href='vscode-notebook-cell:/home/marvinobig/Repos/python/learning-python/2-data-types.ipynb#X12sZmlsZQ%3D%3D?line=1'>2</a>\u001b[0m     \u001b[39m'\u001b[39m\u001b[39mJanuary\u001b[39m\u001b[39m'\u001b[39m, \n\u001b[1;32m      <a href='vscode-notebook-cell:/home/marvinobig/Repos/python/learning-python/2-data-types.ipynb#X12sZmlsZQ%3D%3D?line=2'>3</a>\u001b[0m     \u001b[39m'\u001b[39m\u001b[39mFebruary\u001b[39m\u001b[39m'\u001b[39m, \n\u001b[0;32m   (...)\u001b[0m\n\u001b[1;32m     <a href='vscode-notebook-cell:/home/marvinobig/Repos/python/learning-python/2-data-types.ipynb#X12sZmlsZQ%3D%3D?line=12'>13</a>\u001b[0m     \u001b[39m'\u001b[39m\u001b[39mDecember\u001b[39m\u001b[39m'\u001b[39m\n\u001b[1;32m     <a href='vscode-notebook-cell:/home/marvinobig/Repos/python/learning-python/2-data-types.ipynb#X12sZmlsZQ%3D%3D?line=13'>14</a>\u001b[0m )\n\u001b[1;32m     <a href='vscode-notebook-cell:/home/marvinobig/Repos/python/learning-python/2-data-types.ipynb#X12sZmlsZQ%3D%3D?line=15'>16</a>\u001b[0m \u001b[39mprint\u001b[39m(tupleOfMonths[:\u001b[39m4\u001b[39m])\n\u001b[0;32m---> <a href='vscode-notebook-cell:/home/marvinobig/Repos/python/learning-python/2-data-types.ipynb#X12sZmlsZQ%3D%3D?line=17'>18</a>\u001b[0m tupleOfMonths[\u001b[39m2\u001b[39;49m] \u001b[39m=\u001b[39m \u001b[39m'\u001b[39m\u001b[39mnothing\u001b[39m\u001b[39m'\u001b[39m\n",
      "\u001b[0;31mTypeError\u001b[0m: 'tuple' object does not support item assignment"
     ]
    }
   ],
   "source": [
    "tupleOfMonths = (\n",
    "    'January', \n",
    "    'February', \n",
    "    'March', \n",
    "    'April', \n",
    "    'May', \n",
    "    'June', \n",
    "    'July', \n",
    "    'August', \n",
    "    'September', \n",
    "    'October', \n",
    "    'November',\n",
    "    'December'\n",
    ")\n",
    "\n",
    "print(tupleOfMonths[:4])\n",
    "\n",
    "tupleOfMonths[2] = 'nothing'\n"
   ]
  },
  {
   "cell_type": "markdown",
   "metadata": {},
   "source": [
    "Dictionaries (storing unique data pairs)"
   ]
  },
  {
   "cell_type": "code",
   "execution_count": 29,
   "metadata": {},
   "outputs": [
    {
     "name": "stdout",
     "output_type": "stream",
     "text": [
      "1.  {'marv': 23, 'odell': 45}\n",
      "2.  {'user1': {'marv': 24}, 'user2': {'odell': 45}, 'userIds': ['id34453543234', 'id8879093404']}\n",
      "3.  23\n",
      "4.  {'odell': 45}\n",
      "5.  {'id': 'id34453543234', 'age': 23}\n",
      "6.  {'id': 'id344567876784', 'age': 400}\n",
      "7.  {'marv': {'id': 'id34453543234', 'age': 23}, 'matteus': {'id': 'id344567876784', 'age': 400}}\n"
     ]
    }
   ],
   "source": [
    "dictOfUsers1 = {\n",
    "    'marv' : 23,\n",
    "    'odell' : 45\n",
    "}\n",
    "\n",
    "dictOfUsers2 = {\n",
    "    'user1' : {\n",
    "        'marv' : 24\n",
    "    },\n",
    "    'user2' : {\n",
    "        'odell' : 45\n",
    "    },\n",
    "    'userIds' : ['id34453543234', 'id8879093404']\n",
    "} # dictionaires can also store different datatypes\n",
    "\n",
    "print('1. ', dictOfUsers1)\n",
    "print('2. ', dictOfUsers2)\n",
    "\n",
    "print('3. ', dictOfUsers1['marv']) # you access elements in a dict using the keynames\n",
    "print('4. ', dictOfUsers2['user2'])\n",
    "\n",
    "dictOfUsers1['marv'] = {\n",
    "    'id' : 'id34453543234',\n",
    "    'age' : 23\n",
    "} # modifying a property on a dictionary\n",
    "print('5. ', dictOfUsers1['marv'])\n",
    "\n",
    "dictOfUsers1['matteus'] = {\n",
    "    'id' : 'id344567876784',\n",
    "    'age' : 400\n",
    "} # adding a property to a dictionary\n",
    "print('6. ', dictOfUsers1['matteus'])\n",
    "\n",
    "del dictOfUsers1['odell'] # removing a property from a dictionary\n",
    "print('7. ', dictOfUsers1)\n"
   ]
  }
 ],
 "metadata": {
  "kernelspec": {
   "display_name": "Python 3",
   "language": "python",
   "name": "python3"
  },
  "language_info": {
   "codemirror_mode": {
    "name": "ipython",
    "version": 3
   },
   "file_extension": ".py",
   "mimetype": "text/x-python",
   "name": "python",
   "nbconvert_exporter": "python",
   "pygments_lexer": "ipython3",
   "version": "3.12.0"
  }
 },
 "nbformat": 4,
 "nbformat_minor": 2
}
