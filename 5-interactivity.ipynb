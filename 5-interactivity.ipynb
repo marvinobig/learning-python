{
 "cells": [
  {
   "cell_type": "markdown",
   "metadata": {},
   "source": [
    "### Python provides two functions we can use to interact with users through the terminal"
   ]
  },
  {
   "cell_type": "markdown",
   "metadata": {},
   "source": [
    "input (displays an optional 'message' argument and takes user input in the form of a string)"
   ]
  },
  {
   "cell_type": "code",
   "execution_count": 6,
   "metadata": {},
   "outputs": [
    {
     "name": "stdout",
     "output_type": "stream",
     "text": [
      "1.  sdf\n",
      "2.  sdh\n"
     ]
    }
   ],
   "source": [
    "userName = input('What is you name? ')\n",
    "noMessage = input()\n",
    "\n",
    "print('1. ', userName)\n",
    "print('2. ', noMessage)"
   ]
  },
  {
   "cell_type": "markdown",
   "metadata": {},
   "source": [
    "print (used to print out messages and variable data to the terminal)"
   ]
  },
  {
   "cell_type": "code",
   "execution_count": 7,
   "metadata": {},
   "outputs": [
    {
     "name": "stdout",
     "output_type": "stream",
     "text": [
      "print function in action\n",
      "1.  sdf\n",
      "2.  sdh\n"
     ]
    }
   ],
   "source": [
    "print('print function in action')\n",
    "print('1. ', userName) # the print can  accept more than one argument\n",
    "print('2. ', noMessage) # it prints each argument on a new line"
   ]
  }
 ],
 "metadata": {
  "kernelspec": {
   "display_name": "Python 3",
   "language": "python",
   "name": "python3"
  },
  "language_info": {
   "codemirror_mode": {
    "name": "ipython",
    "version": 3
   },
   "file_extension": ".py",
   "mimetype": "text/x-python",
   "name": "python",
   "nbconvert_exporter": "python",
   "pygments_lexer": "ipython3",
   "version": "3.12.0"
  }
 },
 "nbformat": 4,
 "nbformat_minor": 2
}
