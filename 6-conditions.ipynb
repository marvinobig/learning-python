{
 "cells": [
  {
   "cell_type": "markdown",
   "metadata": {},
   "source": [
    "To control the flow of your program, you'll need to give it the ability to make decisions. You can do this with ***if statements***."
   ]
  },
  {
   "cell_type": "markdown",
   "metadata": {},
   "source": [
    "```python\n",
    "if condition 1:\n",
    "    code to run if condition is true\n",
    "elif condition 2:\n",
    "    code to run if condition 1 is false\n",
    "else:\n",
    "    code to run if above conditions are false\n",
    "```"
   ]
  },
  {
   "cell_type": "code",
   "execution_count": 7,
   "metadata": {},
   "outputs": [
    {
     "name": "stdout",
     "output_type": "stream",
     "text": [
      "this is it\n"
     ]
    }
   ],
   "source": [
    "num = int(input('enter a number'))\n",
    "\n",
    "if num < 2:\n",
    "    print('2 is bigger') # single 'if statement'\n",
    "\n",
    "if num == 2:\n",
    "    print('they are the same')\n",
    "elif num > 2:\n",
    "    print('this is it')\n",
    "else:\n",
    "    print('\\nnoting')"
   ]
  },
  {
   "cell_type": "markdown",
   "metadata": {},
   "source": [
    "The conditional part of the ***if statement*** relies on conditional operators that operates on one or more values. The condition should evaluate to true for the code in an if statement to run.\n",
    "\n",
    "These operators include:\n",
    "\n",
    "- equal to (==)\n",
    "- not equal (!=)\n",
    "- greater than (>)\n",
    "- less than (<)\n",
    "- greater than or equal to (>=)\n",
    "- less than or equal to (<=)\n"
   ]
  },
  {
   "cell_type": "markdown",
   "metadata": {},
   "source": [
    "There is a shorthand for an if statement that you can use if you only need to perform a simple task."
   ]
  },
  {
   "cell_type": "code",
   "execution_count": 8,
   "metadata": {},
   "outputs": [
    {
     "name": "stdout",
     "output_type": "stream",
     "text": [
      "this is 3\n"
     ]
    }
   ],
   "source": [
    "print(f'this is {num}') if num == 3 else print('num does not compute')"
   ]
  }
 ],
 "metadata": {
  "kernelspec": {
   "display_name": "Python 3",
   "language": "python",
   "name": "python3"
  },
  "language_info": {
   "codemirror_mode": {
    "name": "ipython",
    "version": 3
   },
   "file_extension": ".py",
   "mimetype": "text/x-python",
   "name": "python",
   "nbconvert_exporter": "python",
   "pygments_lexer": "ipython3",
   "version": "3.12.0"
  }
 },
 "nbformat": 4,
 "nbformat_minor": 2
}
