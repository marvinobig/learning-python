{
 "cells": [
  {
   "cell_type": "markdown",
   "metadata": {},
   "source": [
    "If you need to perform a task repeatedly based on a condition, you can use a loop."
   ]
  },
  {
   "cell_type": "markdown",
   "metadata": {},
   "source": [
    "#### for loops\n",
    "\n",
    "```python\n",
    "for variable in iterable:\n",
    "    code to repeat\n",
    "```"
   ]
  },
  {
   "cell_type": "code",
   "execution_count": 1,
   "metadata": {},
   "outputs": [
    {
     "name": "stdout",
     "output_type": "stream",
     "text": [
      "2\n",
      "4\n",
      "45\n",
      "35\n",
      "20\n"
     ]
    }
   ],
   "source": [
    "numList = [\n",
    "    2,\n",
    "    4,\n",
    "    45,\n",
    "    35,\n",
    "    20\n",
    "]\n",
    "\n",
    "for num in numList:\n",
    "    print(num)"
   ]
  },
  {
   "cell_type": "markdown",
   "metadata": {},
   "source": [
    "You can also access the current index of the loop using a second variable and the enumerate function."
   ]
  },
  {
   "cell_type": "code",
   "execution_count": 2,
   "metadata": {},
   "outputs": [
    {
     "name": "stdout",
     "output_type": "stream",
     "text": [
      "0. current num: 2\n",
      "1. current num: 4\n",
      "2. current num: 45\n",
      "3. current num: 35\n",
      "4. current num: 20\n"
     ]
    }
   ],
   "source": [
    "for index, num in enumerate(numList):\n",
    "    print(f'{index}. current num: {num}')"
   ]
  },
  {
   "cell_type": "markdown",
   "metadata": {},
   "source": [
    "Loops can be used on dictionaries as well"
   ]
  },
  {
   "cell_type": "code",
   "execution_count": 3,
   "metadata": {},
   "outputs": [
    {
     "name": "stdout",
     "output_type": "stream",
     "text": [
      "adam\n",
      "odell\n"
     ]
    }
   ],
   "source": [
    "userList = {\n",
    "    'adam' : 23,\n",
    "    'odell' : 45,\n",
    "}\n",
    "\n",
    "for userName in userList:\n",
    "    print(userName)"
   ]
  },
  {
   "cell_type": "markdown",
   "metadata": {},
   "source": [
    "You can access each value in a property too"
   ]
  },
  {
   "cell_type": "code",
   "execution_count": 4,
   "metadata": {},
   "outputs": [
    {
     "name": "stdout",
     "output_type": "stream",
     "text": [
      "23\n",
      "45\n"
     ]
    }
   ],
   "source": [
    "for userName in userList:\n",
    "    print(userList[userName])"
   ]
  }
 ],
 "metadata": {
  "kernelspec": {
   "display_name": "Python 3",
   "language": "python",
   "name": "python3"
  },
  "language_info": {
   "codemirror_mode": {
    "name": "ipython",
    "version": 3
   },
   "file_extension": ".py",
   "mimetype": "text/x-python",
   "name": "python",
   "nbconvert_exporter": "python",
   "pygments_lexer": "ipython3",
   "version": "3.12.0"
  }
 },
 "nbformat": 4,
 "nbformat_minor": 2
}
