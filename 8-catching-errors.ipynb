{
 "cells": [
  {
   "cell_type": "markdown",
   "metadata": {},
   "source": [
    "Python provides a control structure that allows you to run code and catch errors from that code"
   ]
  },
  {
   "cell_type": "code",
   "execution_count": 1,
   "metadata": {},
   "outputs": [
    {
     "name": "stdout",
     "output_type": "stream",
     "text": [
      "this is the error I caught\n"
     ]
    }
   ],
   "source": [
    "try:\n",
    "    answer = 12/0\n",
    "    print(answer)\n",
    "except:\n",
    "    print('this is the error I caught')"
   ]
  },
  {
   "cell_type": "markdown",
   "metadata": {},
   "source": [
    "You can have more than one ***except*** block. These blocks can be triggered by a specific error"
   ]
  },
  {
   "cell_type": "code",
   "execution_count": 4,
   "metadata": {},
   "outputs": [
    {
     "name": "stdout",
     "output_type": "stream",
     "text": [
      "incorrect type of value provided\n"
     ]
    }
   ],
   "source": [
    "try:\n",
    "    firstInput = input('what is your name? ')\n",
    "\n",
    "    secondInput = int(input('what is your age? '))\n",
    "\n",
    "    answer = 12/0\n",
    "\n",
    "    print(answer)\n",
    "\n",
    "    myFile = open('missing.txt', 'r')\n",
    "except ValueError:\n",
    "    print('incorrect type of value provided')\n",
    "except ZeroDivisionError:\n",
    "    print('you cannot divide a number by zero')\n",
    "except Exception as err:\n",
    "    print(f'Unknown error: {err}')"
   ]
  },
  {
   "cell_type": "markdown",
   "metadata": {},
   "source": [
    "As seen above, you can use the predefined error message by using the ***as*** keyword after an error type and then declaring a variable to store the message in."
   ]
  }
 ],
 "metadata": {
  "kernelspec": {
   "display_name": "Python 3",
   "language": "python",
   "name": "python3"
  },
  "language_info": {
   "codemirror_mode": {
    "name": "ipython",
    "version": 3
   },
   "file_extension": ".py",
   "mimetype": "text/x-python",
   "name": "python",
   "nbconvert_exporter": "python",
   "pygments_lexer": "ipython3",
   "version": "3.12.0"
  }
 },
 "nbformat": 4,
 "nbformat_minor": 2
}
